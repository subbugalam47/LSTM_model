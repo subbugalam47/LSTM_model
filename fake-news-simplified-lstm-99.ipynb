{
 "cells": [
  {
   "cell_type": "code",
   "execution_count": 1,
   "metadata": {
    "_cell_guid": "b1076dfc-b9ad-4769-8c92-a6c4dae69d19",
    "_uuid": "8f2839f25d086af736a60e9eeb907d3b93b6e0e5",
    "execution": {
     "iopub.execute_input": "2021-03-10T06:20:13.841856Z",
     "iopub.status.busy": "2021-03-10T06:20:13.840976Z",
     "iopub.status.idle": "2021-03-10T06:20:20.363381Z",
     "shell.execute_reply": "2021-03-10T06:20:20.364048Z"
    },
    "papermill": {
     "duration": 6.558654,
     "end_time": "2021-03-10T06:20:20.364434",
     "exception": false,
     "start_time": "2021-03-10T06:20:13.805780",
     "status": "completed"
    },
    "tags": []
   },
   "outputs": [
    {
     "name": "stdout",
     "output_type": "stream",
     "text": [
      "/kaggle/input/fake-news/submit.csv\n",
      "/kaggle/input/fake-news/train.csv\n",
      "/kaggle/input/fake-news/test.csv\n"
     ]
    }
   ],
   "source": [
    "# This Python 3 environment comes with many helpful analytics libraries installed\n",
    "# It is defined by the kaggle/python Docker image: https://github.com/kaggle/docker-python\n",
    "# For example, here's several helpful packages to load\n",
    "\n",
    "import numpy as np # linear algebra\n",
    "import pandas as pd # data processing, CSV file I/O (e.g. pd.read_csv)\n",
    "\n",
    "\n",
    "\n",
    "import tensorflow as tf\n",
    "\n",
    "\n",
    "\n",
    "# Input data files are available in the read-only \"../input/\" directory\n",
    "# For example, running this (by clicking run or pressing Shift+Enter) will list all files under the input directory\n",
    "\n",
    "import os\n",
    "for dirname, _, filenames in os.walk('/kaggle/input'):\n",
    "    for filename in filenames:\n",
    "        print(os.path.join(dirname, filename))\n",
    "\n",
    "# You can write up to 20GB to the current directory (/kaggle/working/) that gets preserved as output when you create a version using \"Save & Run All\" \n",
    "# You can also write temporary files to /kaggle/temp/, but they won't be saved outside of the current session"
   ]
  },
  {
   "cell_type": "markdown",
   "metadata": {
    "papermill": {
     "duration": 0.027113,
     "end_time": "2021-03-10T06:20:20.419823",
     "exception": false,
     "start_time": "2021-03-10T06:20:20.392710",
     "status": "completed"
    },
    "tags": []
   },
   "source": [
    "## Datasets Loading....."
   ]
  },
  {
   "cell_type": "code",
   "execution_count": 2,
   "metadata": {
    "execution": {
     "iopub.execute_input": "2021-03-10T06:20:20.480207Z",
     "iopub.status.busy": "2021-03-10T06:20:20.479463Z",
     "iopub.status.idle": "2021-03-10T06:20:23.555943Z",
     "shell.execute_reply": "2021-03-10T06:20:23.556603Z"
    },
    "papermill": {
     "duration": 3.109575,
     "end_time": "2021-03-10T06:20:23.556784",
     "exception": false,
     "start_time": "2021-03-10T06:20:20.447209",
     "status": "completed"
    },
    "tags": []
   },
   "outputs": [],
   "source": [
    "df = pd.read_csv('/kaggle/input/fake-news/train.csv')"
   ]
  },
  {
   "cell_type": "code",
   "execution_count": 3,
   "metadata": {
    "execution": {
     "iopub.execute_input": "2021-03-10T06:20:23.617103Z",
     "iopub.status.busy": "2021-03-10T06:20:23.616150Z",
     "iopub.status.idle": "2021-03-10T06:20:24.303360Z",
     "shell.execute_reply": "2021-03-10T06:20:24.303930Z"
    },
    "papermill": {
     "duration": 0.718542,
     "end_time": "2021-03-10T06:20:24.304109",
     "exception": false,
     "start_time": "2021-03-10T06:20:23.585567",
     "status": "completed"
    },
    "tags": []
   },
   "outputs": [],
   "source": [
    "test_df = pd.read_csv('/kaggle/input/fake-news/test.csv')"
   ]
  },
  {
   "cell_type": "code",
   "execution_count": 4,
   "metadata": {
    "execution": {
     "iopub.execute_input": "2021-03-10T06:20:24.363270Z",
     "iopub.status.busy": "2021-03-10T06:20:24.362298Z",
     "iopub.status.idle": "2021-03-10T06:20:24.377846Z",
     "shell.execute_reply": "2021-03-10T06:20:24.378428Z"
    },
    "papermill": {
     "duration": 0.046821,
     "end_time": "2021-03-10T06:20:24.378608",
     "exception": false,
     "start_time": "2021-03-10T06:20:24.331787",
     "status": "completed"
    },
    "tags": []
   },
   "outputs": [],
   "source": [
    "submission = pd.read_csv('/kaggle/input/fake-news/submit.csv')"
   ]
  },
  {
   "cell_type": "code",
   "execution_count": 5,
   "metadata": {
    "execution": {
     "iopub.execute_input": "2021-03-10T06:20:24.437862Z",
     "iopub.status.busy": "2021-03-10T06:20:24.436886Z",
     "iopub.status.idle": "2021-03-10T06:20:24.459248Z",
     "shell.execute_reply": "2021-03-10T06:20:24.459788Z"
    },
    "papermill": {
     "duration": 0.053623,
     "end_time": "2021-03-10T06:20:24.459965",
     "exception": false,
     "start_time": "2021-03-10T06:20:24.406342",
     "status": "completed"
    },
    "tags": []
   },
   "outputs": [],
   "source": [
    "\n",
    "\n",
    "main_df = pd.concat([df.drop(['label'],axis=1),test_df],axis=0)"
   ]
  },
  {
   "cell_type": "code",
   "execution_count": 6,
   "metadata": {
    "execution": {
     "iopub.execute_input": "2021-03-10T06:20:24.519674Z",
     "iopub.status.busy": "2021-03-10T06:20:24.518707Z",
     "iopub.status.idle": "2021-03-10T06:20:24.527131Z",
     "shell.execute_reply": "2021-03-10T06:20:24.527704Z"
    },
    "papermill": {
     "duration": 0.040005,
     "end_time": "2021-03-10T06:20:24.527876",
     "exception": false,
     "start_time": "2021-03-10T06:20:24.487871",
     "status": "completed"
    },
    "tags": []
   },
   "outputs": [
    {
     "data": {
      "text/plain": [
       "(26000, 4)"
      ]
     },
     "execution_count": 6,
     "metadata": {},
     "output_type": "execute_result"
    }
   ],
   "source": [
    "main_df.shape"
   ]
  },
  {
   "cell_type": "markdown",
   "metadata": {
    "papermill": {
     "duration": 0.028002,
     "end_time": "2021-03-10T06:20:24.583855",
     "exception": false,
     "start_time": "2021-03-10T06:20:24.555853",
     "status": "completed"
    },
    "tags": []
   },
   "source": [
    "## Missing Data"
   ]
  },
  {
   "cell_type": "code",
   "execution_count": 7,
   "metadata": {
    "execution": {
     "iopub.execute_input": "2021-03-10T06:20:24.644296Z",
     "iopub.status.busy": "2021-03-10T06:20:24.643346Z",
     "iopub.status.idle": "2021-03-10T06:20:24.651382Z",
     "shell.execute_reply": "2021-03-10T06:20:24.651918Z"
    },
    "papermill": {
     "duration": 0.039888,
     "end_time": "2021-03-10T06:20:24.652085",
     "exception": false,
     "start_time": "2021-03-10T06:20:24.612197",
     "status": "completed"
    },
    "tags": []
   },
   "outputs": [
    {
     "data": {
      "text/plain": [
       "0    House Dem Aide: We Didn’t Even See Comey’s Let...\n",
       "1    FLYNN: Hillary Clinton, Big Woman on Campus - ...\n",
       "2                    Why the Truth Might Get You Fired\n",
       "3    15 Civilians Killed In Single US Airstrike Hav...\n",
       "4    Iranian woman jailed for fictional unpublished...\n",
       "Name: title, dtype: object"
      ]
     },
     "execution_count": 7,
     "metadata": {},
     "output_type": "execute_result"
    }
   ],
   "source": [
    "main_df.title.head(5)"
   ]
  },
  {
   "cell_type": "code",
   "execution_count": 8,
   "metadata": {
    "execution": {
     "iopub.execute_input": "2021-03-10T06:20:24.713061Z",
     "iopub.status.busy": "2021-03-10T06:20:24.711916Z",
     "iopub.status.idle": "2021-03-10T06:20:24.719215Z",
     "shell.execute_reply": "2021-03-10T06:20:24.719810Z"
    },
    "papermill": {
     "duration": 0.039435,
     "end_time": "2021-03-10T06:20:24.719980",
     "exception": false,
     "start_time": "2021-03-10T06:20:24.680545",
     "status": "completed"
    },
    "tags": []
   },
   "outputs": [
    {
     "data": {
      "text/plain": [
       "0    House Dem Aide: We Didn’t Even See Comey’s Let...\n",
       "1    Ever get the feeling your life circles the rou...\n",
       "2    Why the Truth Might Get You Fired October 29, ...\n",
       "3    Videos 15 Civilians Killed In Single US Airstr...\n",
       "4    Print \\nAn Iranian woman has been sentenced to...\n",
       "Name: text, dtype: object"
      ]
     },
     "execution_count": 8,
     "metadata": {},
     "output_type": "execute_result"
    }
   ],
   "source": [
    "main_df.text.head(5)"
   ]
  },
  {
   "cell_type": "code",
   "execution_count": 9,
   "metadata": {
    "execution": {
     "iopub.execute_input": "2021-03-10T06:20:24.782146Z",
     "iopub.status.busy": "2021-03-10T06:20:24.781203Z",
     "iopub.status.idle": "2021-03-10T06:20:24.790960Z",
     "shell.execute_reply": "2021-03-10T06:20:24.791465Z"
    },
    "papermill": {
     "duration": 0.042651,
     "end_time": "2021-03-10T06:20:24.791678",
     "exception": false,
     "start_time": "2021-03-10T06:20:24.749027",
     "status": "completed"
    },
    "tags": []
   },
   "outputs": [],
   "source": [
    "main_df.title=main_df.title.fillna(main_df['text'])"
   ]
  },
  {
   "cell_type": "code",
   "execution_count": 10,
   "metadata": {
    "execution": {
     "iopub.execute_input": "2021-03-10T06:20:24.855196Z",
     "iopub.status.busy": "2021-03-10T06:20:24.854151Z",
     "iopub.status.idle": "2021-03-10T06:20:24.875207Z",
     "shell.execute_reply": "2021-03-10T06:20:24.875731Z"
    },
    "papermill": {
     "duration": 0.05468,
     "end_time": "2021-03-10T06:20:24.875917",
     "exception": false,
     "start_time": "2021-03-10T06:20:24.821237",
     "status": "completed"
    },
    "tags": []
   },
   "outputs": [
    {
     "data": {
      "text/plain": [
       "id           0\n",
       "title        0\n",
       "author    2460\n",
       "text        46\n",
       "dtype: int64"
      ]
     },
     "execution_count": 10,
     "metadata": {},
     "output_type": "execute_result"
    }
   ],
   "source": [
    "\n",
    "\n",
    "\n",
    "\n",
    "\n",
    "\n",
    "main_df.isnull().sum()"
   ]
  },
  {
   "cell_type": "code",
   "execution_count": 11,
   "metadata": {
    "execution": {
     "iopub.execute_input": "2021-03-10T06:20:24.946841Z",
     "iopub.status.busy": "2021-03-10T06:20:24.945423Z",
     "iopub.status.idle": "2021-03-10T06:20:24.953133Z",
     "shell.execute_reply": "2021-03-10T06:20:24.952399Z"
    },
    "papermill": {
     "duration": 0.047564,
     "end_time": "2021-03-10T06:20:24.953288",
     "exception": false,
     "start_time": "2021-03-10T06:20:24.905724",
     "status": "completed"
    },
    "tags": []
   },
   "outputs": [],
   "source": [
    "main_df.text=main_df.text.fillna(main_df.title)"
   ]
  },
  {
   "cell_type": "code",
   "execution_count": 12,
   "metadata": {
    "execution": {
     "iopub.execute_input": "2021-03-10T06:20:25.032631Z",
     "iopub.status.busy": "2021-03-10T06:20:25.031467Z",
     "iopub.status.idle": "2021-03-10T06:20:25.039832Z",
     "shell.execute_reply": "2021-03-10T06:20:25.039215Z"
    },
    "papermill": {
     "duration": 0.055045,
     "end_time": "2021-03-10T06:20:25.039984",
     "exception": false,
     "start_time": "2021-03-10T06:20:24.984939",
     "status": "completed"
    },
    "tags": []
   },
   "outputs": [
    {
     "data": {
      "text/plain": [
       "id           0\n",
       "title        0\n",
       "author    2460\n",
       "text         0\n",
       "dtype: int64"
      ]
     },
     "execution_count": 12,
     "metadata": {},
     "output_type": "execute_result"
    }
   ],
   "source": [
    "main_df.isnull().sum()"
   ]
  },
  {
   "cell_type": "markdown",
   "metadata": {
    "papermill": {
     "duration": 0.030568,
     "end_time": "2021-03-10T06:20:25.101837",
     "exception": false,
     "start_time": "2021-03-10T06:20:25.071269",
     "status": "completed"
    },
    "tags": []
   },
   "source": []
  },
  {
   "cell_type": "code",
   "execution_count": 13,
   "metadata": {
    "execution": {
     "iopub.execute_input": "2021-03-10T06:20:25.175307Z",
     "iopub.status.busy": "2021-03-10T06:20:25.171435Z",
     "iopub.status.idle": "2021-03-10T06:20:25.193169Z",
     "shell.execute_reply": "2021-03-10T06:20:25.192519Z"
    },
    "papermill": {
     "duration": 0.060558,
     "end_time": "2021-03-10T06:20:25.193382",
     "exception": false,
     "start_time": "2021-03-10T06:20:25.132824",
     "status": "completed"
    },
    "tags": []
   },
   "outputs": [
    {
     "data": {
      "text/html": [
       "<div>\n",
       "<style scoped>\n",
       "    .dataframe tbody tr th:only-of-type {\n",
       "        vertical-align: middle;\n",
       "    }\n",
       "\n",
       "    .dataframe tbody tr th {\n",
       "        vertical-align: top;\n",
       "    }\n",
       "\n",
       "    .dataframe thead th {\n",
       "        text-align: right;\n",
       "    }\n",
       "</style>\n",
       "<table border=\"1\" class=\"dataframe\">\n",
       "  <thead>\n",
       "    <tr style=\"text-align: right;\">\n",
       "      <th></th>\n",
       "      <th>id</th>\n",
       "      <th>title</th>\n",
       "      <th>author</th>\n",
       "      <th>text</th>\n",
       "    </tr>\n",
       "  </thead>\n",
       "  <tbody>\n",
       "    <tr>\n",
       "      <th>6</th>\n",
       "      <td>6</td>\n",
       "      <td>Life: Life Of Luxury: Elton John’s 6 Favorite ...</td>\n",
       "      <td>NaN</td>\n",
       "      <td>Ever wonder how Britain’s most iconic pop pian...</td>\n",
       "    </tr>\n",
       "    <tr>\n",
       "      <th>8</th>\n",
       "      <td>8</td>\n",
       "      <td>Excerpts From a Draft Script for Donald Trump’...</td>\n",
       "      <td>NaN</td>\n",
       "      <td>Donald J. Trump is scheduled to make a highly ...</td>\n",
       "    </tr>\n",
       "    <tr>\n",
       "      <th>20</th>\n",
       "      <td>20</td>\n",
       "      <td>News: Hope For The GOP: A Nude Paul Ryan Has J...</td>\n",
       "      <td>NaN</td>\n",
       "      <td>Email \\nSince Donald Trump entered the electio...</td>\n",
       "    </tr>\n",
       "    <tr>\n",
       "      <th>23</th>\n",
       "      <td>23</td>\n",
       "      <td>Massachusetts Cop’s Wife Busted for Pinning Fa...</td>\n",
       "      <td>NaN</td>\n",
       "      <td>Massachusetts Cop’s Wife Busted for Pinning Fa...</td>\n",
       "    </tr>\n",
       "    <tr>\n",
       "      <th>31</th>\n",
       "      <td>31</td>\n",
       "      <td>Israel is Becoming Pivotal to China’s Mid-East...</td>\n",
       "      <td>NaN</td>\n",
       "      <td>Country: Israel While China is silently playin...</td>\n",
       "    </tr>\n",
       "    <tr>\n",
       "      <th>...</th>\n",
       "      <td>...</td>\n",
       "      <td>...</td>\n",
       "      <td>...</td>\n",
       "      <td>...</td>\n",
       "    </tr>\n",
       "    <tr>\n",
       "      <th>5152</th>\n",
       "      <td>25952</td>\n",
       "      <td>Flotilla of Russian warships sails into the Me...</td>\n",
       "      <td>NaN</td>\n",
       "      <td>09:01 EST, 12 November 2016 | Updated: 18:54 E...</td>\n",
       "    </tr>\n",
       "    <tr>\n",
       "      <th>5163</th>\n",
       "      <td>25963</td>\n",
       "      <td>TRUMP RECEIVED BY MASSIVE CROWD IN ALBUQUERQUE...</td>\n",
       "      <td>NaN</td>\n",
       "      <td>Home / News / TRUMP RECEIVED BY MASSIVE CROWD ...</td>\n",
       "    </tr>\n",
       "    <tr>\n",
       "      <th>5170</th>\n",
       "      <td>25970</td>\n",
       "      <td>Reinventing Democracy in America Starts by Vot...</td>\n",
       "      <td>NaN</td>\n",
       "      <td>Reinventing Democracy in America Starts by Vot...</td>\n",
       "    </tr>\n",
       "    <tr>\n",
       "      <th>5172</th>\n",
       "      <td>25972</td>\n",
       "      <td>The Postmodern Stalinism of the Western Media ...</td>\n",
       "      <td>NaN</td>\n",
       "      <td>Originally appeared at Chronicles Magazine \\nI...</td>\n",
       "    </tr>\n",
       "    <tr>\n",
       "      <th>5198</th>\n",
       "      <td>25998</td>\n",
       "      <td>300 US Marines To Be Deployed To Russian Borde...</td>\n",
       "      <td>NaN</td>\n",
       "      <td>« Previous - Next » 300 US Marines To Be Deplo...</td>\n",
       "    </tr>\n",
       "  </tbody>\n",
       "</table>\n",
       "<p>2460 rows × 4 columns</p>\n",
       "</div>"
      ],
      "text/plain": [
       "         id                                              title author  \\\n",
       "6         6  Life: Life Of Luxury: Elton John’s 6 Favorite ...    NaN   \n",
       "8         8  Excerpts From a Draft Script for Donald Trump’...    NaN   \n",
       "20       20  News: Hope For The GOP: A Nude Paul Ryan Has J...    NaN   \n",
       "23       23  Massachusetts Cop’s Wife Busted for Pinning Fa...    NaN   \n",
       "31       31  Israel is Becoming Pivotal to China’s Mid-East...    NaN   \n",
       "...     ...                                                ...    ...   \n",
       "5152  25952  Flotilla of Russian warships sails into the Me...    NaN   \n",
       "5163  25963  TRUMP RECEIVED BY MASSIVE CROWD IN ALBUQUERQUE...    NaN   \n",
       "5170  25970  Reinventing Democracy in America Starts by Vot...    NaN   \n",
       "5172  25972  The Postmodern Stalinism of the Western Media ...    NaN   \n",
       "5198  25998  300 US Marines To Be Deployed To Russian Borde...    NaN   \n",
       "\n",
       "                                                   text  \n",
       "6     Ever wonder how Britain’s most iconic pop pian...  \n",
       "8     Donald J. Trump is scheduled to make a highly ...  \n",
       "20    Email \\nSince Donald Trump entered the electio...  \n",
       "23    Massachusetts Cop’s Wife Busted for Pinning Fa...  \n",
       "31    Country: Israel While China is silently playin...  \n",
       "...                                                 ...  \n",
       "5152  09:01 EST, 12 November 2016 | Updated: 18:54 E...  \n",
       "5163  Home / News / TRUMP RECEIVED BY MASSIVE CROWD ...  \n",
       "5170  Reinventing Democracy in America Starts by Vot...  \n",
       "5172  Originally appeared at Chronicles Magazine \\nI...  \n",
       "5198  « Previous - Next » 300 US Marines To Be Deplo...  \n",
       "\n",
       "[2460 rows x 4 columns]"
      ]
     },
     "execution_count": 13,
     "metadata": {},
     "output_type": "execute_result"
    }
   ],
   "source": [
    "main_df[main_df.author.isnull()]"
   ]
  },
  {
   "cell_type": "code",
   "execution_count": 14,
   "metadata": {
    "execution": {
     "iopub.execute_input": "2021-03-10T06:20:25.264968Z",
     "iopub.status.busy": "2021-03-10T06:20:25.263524Z",
     "iopub.status.idle": "2021-03-10T06:20:25.269393Z",
     "shell.execute_reply": "2021-03-10T06:20:25.268682Z"
    },
    "papermill": {
     "duration": 0.044272,
     "end_time": "2021-03-10T06:20:25.269543",
     "exception": false,
     "start_time": "2021-03-10T06:20:25.225271",
     "status": "completed"
    },
    "tags": []
   },
   "outputs": [],
   "source": [
    "main_df.author = main_df.author.fillna('unknown')"
   ]
  },
  {
   "cell_type": "code",
   "execution_count": 15,
   "metadata": {
    "execution": {
     "iopub.execute_input": "2021-03-10T06:20:25.349509Z",
     "iopub.status.busy": "2021-03-10T06:20:25.348810Z",
     "iopub.status.idle": "2021-03-10T06:20:25.355584Z",
     "shell.execute_reply": "2021-03-10T06:20:25.355047Z"
    },
    "papermill": {
     "duration": 0.054078,
     "end_time": "2021-03-10T06:20:25.355733",
     "exception": false,
     "start_time": "2021-03-10T06:20:25.301655",
     "status": "completed"
    },
    "tags": []
   },
   "outputs": [
    {
     "data": {
      "text/plain": [
       "id        0\n",
       "title     0\n",
       "author    0\n",
       "text      0\n",
       "dtype: int64"
      ]
     },
     "execution_count": 15,
     "metadata": {},
     "output_type": "execute_result"
    }
   ],
   "source": [
    "main_df.isnull().sum()"
   ]
  },
  {
   "cell_type": "code",
   "execution_count": 16,
   "metadata": {
    "execution": {
     "iopub.execute_input": "2021-03-10T06:20:25.427376Z",
     "iopub.status.busy": "2021-03-10T06:20:25.426642Z",
     "iopub.status.idle": "2021-03-10T06:20:25.465626Z",
     "shell.execute_reply": "2021-03-10T06:20:25.464948Z"
    },
    "papermill": {
     "duration": 0.077918,
     "end_time": "2021-03-10T06:20:25.465791",
     "exception": false,
     "start_time": "2021-03-10T06:20:25.387873",
     "status": "completed"
    },
    "tags": []
   },
   "outputs": [],
   "source": [
    "# We will be only using title and author name for prediction\n",
    "# Creating new coolumn total concatenating title and author\n",
    "main_df['total'] = main_df['title']+' '+main_df['author']\n",
    "#test['total']=test['title']+' '+test['author']"
   ]
  },
  {
   "cell_type": "code",
   "execution_count": 17,
   "metadata": {
    "execution": {
     "iopub.execute_input": "2021-03-10T06:20:25.535384Z",
     "iopub.status.busy": "2021-03-10T06:20:25.534701Z",
     "iopub.status.idle": "2021-03-10T06:20:25.537954Z",
     "shell.execute_reply": "2021-03-10T06:20:25.538429Z"
    },
    "papermill": {
     "duration": 0.040779,
     "end_time": "2021-03-10T06:20:25.538616",
     "exception": false,
     "start_time": "2021-03-10T06:20:25.497837",
     "status": "completed"
    },
    "tags": []
   },
   "outputs": [],
   "source": [
    "X= main_df\n",
    "y = df['label']"
   ]
  },
  {
   "cell_type": "markdown",
   "metadata": {
    "papermill": {
     "duration": 0.031554,
     "end_time": "2021-03-10T06:20:25.602194",
     "exception": false,
     "start_time": "2021-03-10T06:20:25.570640",
     "status": "completed"
    },
    "tags": []
   },
   "source": [
    "## Pre_processing..."
   ]
  },
  {
   "cell_type": "code",
   "execution_count": 18,
   "metadata": {
    "execution": {
     "iopub.execute_input": "2021-03-10T06:20:25.672279Z",
     "iopub.status.busy": "2021-03-10T06:20:25.671280Z",
     "iopub.status.idle": "2021-03-10T06:20:25.674560Z",
     "shell.execute_reply": "2021-03-10T06:20:25.673949Z"
    },
    "papermill": {
     "duration": 0.040655,
     "end_time": "2021-03-10T06:20:25.674704",
     "exception": false,
     "start_time": "2021-03-10T06:20:25.634049",
     "status": "completed"
    },
    "tags": []
   },
   "outputs": [],
   "source": [
    "from tensorflow.keras.layers import Embedding ,LSTM , Dense,Dropout\n",
    "from tensorflow.keras.preprocessing.sequence import pad_sequences\n",
    "from tensorflow.keras.preprocessing.text import one_hot\n",
    "from tensorflow.keras.models import Sequential"
   ]
  },
  {
   "cell_type": "code",
   "execution_count": 19,
   "metadata": {
    "execution": {
     "iopub.execute_input": "2021-03-10T06:20:25.743573Z",
     "iopub.status.busy": "2021-03-10T06:20:25.742825Z",
     "iopub.status.idle": "2021-03-10T06:20:25.752169Z",
     "shell.execute_reply": "2021-03-10T06:20:25.751530Z"
    },
    "papermill": {
     "duration": 0.04516,
     "end_time": "2021-03-10T06:20:25.752354",
     "exception": false,
     "start_time": "2021-03-10T06:20:25.707194",
     "status": "completed"
    },
    "tags": []
   },
   "outputs": [],
   "source": [
    "voc_size= 5000\n",
    "messages = X.copy()\n",
    "messages.reset_index(inplace=True)"
   ]
  },
  {
   "cell_type": "code",
   "execution_count": 20,
   "metadata": {
    "execution": {
     "iopub.execute_input": "2021-03-10T06:20:25.823092Z",
     "iopub.status.busy": "2021-03-10T06:20:25.822203Z",
     "iopub.status.idle": "2021-03-10T06:20:27.166687Z",
     "shell.execute_reply": "2021-03-10T06:20:27.166105Z"
    },
    "papermill": {
     "duration": 1.38213,
     "end_time": "2021-03-10T06:20:27.166848",
     "exception": false,
     "start_time": "2021-03-10T06:20:25.784718",
     "status": "completed"
    },
    "tags": []
   },
   "outputs": [],
   "source": [
    "import nltk\n",
    "import re\n",
    "from nltk.corpus import stopwords\n",
    "from nltk.stem.porter import PorterStemmer\n"
   ]
  },
  {
   "cell_type": "code",
   "execution_count": 21,
   "metadata": {
    "execution": {
     "iopub.execute_input": "2021-03-10T06:20:27.261458Z",
     "iopub.status.busy": "2021-03-10T06:20:27.260754Z",
     "iopub.status.idle": "2021-03-10T06:20:27.415183Z",
     "shell.execute_reply": "2021-03-10T06:20:27.414607Z"
    },
    "papermill": {
     "duration": 0.202186,
     "end_time": "2021-03-10T06:20:27.415354",
     "exception": false,
     "start_time": "2021-03-10T06:20:27.213168",
     "status": "completed"
    },
    "tags": []
   },
   "outputs": [
    {
     "name": "stdout",
     "output_type": "stream",
     "text": [
      "[nltk_data] Downloading package stopwords to /usr/share/nltk_data...\n",
      "[nltk_data]   Package stopwords is already up-to-date!\n"
     ]
    },
    {
     "data": {
      "text/plain": [
       "True"
      ]
     },
     "execution_count": 21,
     "metadata": {},
     "output_type": "execute_result"
    }
   ],
   "source": [
    "nltk.download('stopwords')"
   ]
  },
  {
   "cell_type": "code",
   "execution_count": 22,
   "metadata": {
    "execution": {
     "iopub.execute_input": "2021-03-10T06:20:27.491904Z",
     "iopub.status.busy": "2021-03-10T06:20:27.491059Z",
     "iopub.status.idle": "2021-03-10T06:21:33.776997Z",
     "shell.execute_reply": "2021-03-10T06:21:33.776305Z"
    },
    "papermill": {
     "duration": 66.327981,
     "end_time": "2021-03-10T06:21:33.777169",
     "exception": false,
     "start_time": "2021-03-10T06:20:27.449188",
     "status": "completed"
    },
    "tags": []
   },
   "outputs": [],
   "source": [
    "#Applying stemming and some preprocessing\n",
    "ps = PorterStemmer()\n",
    "corpus = []\n",
    "for i in range(0,len(messages)):\n",
    "   \n",
    "    review = re.sub('[^a-zA-Z]',' ',messages['total'][i])\n",
    "    review =review.lower()\n",
    "    review = review.split()\n",
    "    review = [ps.stem(word)for word in review if not word in stopwords.words('english')]\n",
    "    review = ' '.join(review)\n",
    "    corpus.append(review)"
   ]
  },
  {
   "cell_type": "code",
   "execution_count": 23,
   "metadata": {
    "execution": {
     "iopub.execute_input": "2021-03-10T06:21:33.850222Z",
     "iopub.status.busy": "2021-03-10T06:21:33.849569Z",
     "iopub.status.idle": "2021-03-10T06:21:33.853879Z",
     "shell.execute_reply": "2021-03-10T06:21:33.853077Z"
    },
    "papermill": {
     "duration": 0.042873,
     "end_time": "2021-03-10T06:21:33.854027",
     "exception": false,
     "start_time": "2021-03-10T06:21:33.811154",
     "status": "completed"
    },
    "tags": []
   },
   "outputs": [
    {
     "data": {
      "text/plain": [
       "'hous dem aid even see comey letter jason chaffetz tweet darrel lucu'"
      ]
     },
     "execution_count": 23,
     "metadata": {},
     "output_type": "execute_result"
    }
   ],
   "source": [
    "corpus[0]"
   ]
  },
  {
   "cell_type": "code",
   "execution_count": 24,
   "metadata": {
    "execution": {
     "iopub.execute_input": "2021-03-10T06:21:33.945567Z",
     "iopub.status.busy": "2021-03-10T06:21:33.940309Z",
     "iopub.status.idle": "2021-03-10T06:21:34.494857Z",
     "shell.execute_reply": "2021-03-10T06:21:34.495426Z"
    },
    "papermill": {
     "duration": 0.607784,
     "end_time": "2021-03-10T06:21:34.495620",
     "exception": false,
     "start_time": "2021-03-10T06:21:33.887836",
     "status": "completed"
    },
    "tags": []
   },
   "outputs": [],
   "source": [
    "one_represent = [one_hot(words,voc_size) for words in corpus]"
   ]
  },
  {
   "cell_type": "code",
   "execution_count": 25,
   "metadata": {
    "execution": {
     "iopub.execute_input": "2021-03-10T06:21:34.571436Z",
     "iopub.status.busy": "2021-03-10T06:21:34.570704Z",
     "iopub.status.idle": "2021-03-10T06:21:34.575550Z",
     "shell.execute_reply": "2021-03-10T06:21:34.575014Z"
    },
    "papermill": {
     "duration": 0.046304,
     "end_time": "2021-03-10T06:21:34.575687",
     "exception": false,
     "start_time": "2021-03-10T06:21:34.529383",
     "status": "completed"
    },
    "tags": []
   },
   "outputs": [
    {
     "data": {
      "text/plain": [
       "[4347, 2809, 2972, 3311, 2492, 2048, 3239, 4538, 2383, 1765, 1906, 737]"
      ]
     },
     "execution_count": 25,
     "metadata": {},
     "output_type": "execute_result"
    }
   ],
   "source": [
    "one_represent[0]"
   ]
  },
  {
   "cell_type": "code",
   "execution_count": 26,
   "metadata": {
    "execution": {
     "iopub.execute_input": "2021-03-10T06:21:34.654009Z",
     "iopub.status.busy": "2021-03-10T06:21:34.653300Z",
     "iopub.status.idle": "2021-03-10T06:21:34.859199Z",
     "shell.execute_reply": "2021-03-10T06:21:34.857901Z"
    },
    "papermill": {
     "duration": 0.249438,
     "end_time": "2021-03-10T06:21:34.859436",
     "exception": false,
     "start_time": "2021-03-10T06:21:34.609998",
     "status": "completed"
    },
    "tags": []
   },
   "outputs": [
    {
     "name": "stdout",
     "output_type": "stream",
     "text": [
      "[   0    0    0    0    0    0    0    0 4347 2809 2972 3311 2492 2048\n",
      " 3239 4538 2383 1765 1906  737]\n"
     ]
    }
   ],
   "source": [
    "sent_length = 20\n",
    "embedded_docs = pad_sequences(one_represent,padding='pre',maxlen=sent_length)\n",
    "print(embedded_docs[0])"
   ]
  },
  {
   "cell_type": "markdown",
   "metadata": {
    "papermill": {
     "duration": 0.034606,
     "end_time": "2021-03-10T06:21:34.929415",
     "exception": false,
     "start_time": "2021-03-10T06:21:34.894809",
     "status": "completed"
    },
    "tags": []
   },
   "source": [
    "## Model creating..."
   ]
  },
  {
   "cell_type": "markdown",
   "metadata": {
    "papermill": {
     "duration": 0.03497,
     "end_time": "2021-03-10T06:21:34.999112",
     "exception": false,
     "start_time": "2021-03-10T06:21:34.964142",
     "status": "completed"
    },
    "tags": []
   },
   "source": [
    "embedding_vector_features = 40\n",
    "model = Sequential()\n",
    "model.add(Embedding(voc_size,embedding_vector_features,input_length=sent_length))\n",
    "model.add(LSTM(100))\n",
    "model.add(Dense(1,activation='sigmoid'))\n",
    "model.compile(optimizer='adam',loss='binary_crossentropy',metrics=['accuracy'])"
   ]
  },
  {
   "cell_type": "code",
   "execution_count": 27,
   "metadata": {
    "execution": {
     "iopub.execute_input": "2021-03-10T06:21:35.077103Z",
     "iopub.status.busy": "2021-03-10T06:21:35.076037Z",
     "iopub.status.idle": "2021-03-10T06:21:35.517830Z",
     "shell.execute_reply": "2021-03-10T06:21:35.518880Z"
    },
    "papermill": {
     "duration": 0.485513,
     "end_time": "2021-03-10T06:21:35.519159",
     "exception": false,
     "start_time": "2021-03-10T06:21:35.033646",
     "status": "completed"
    },
    "tags": []
   },
   "outputs": [
    {
     "name": "stdout",
     "output_type": "stream",
     "text": [
      "Model: \"sequential\"\n",
      "_________________________________________________________________\n",
      "Layer (type)                 Output Shape              Param #   \n",
      "=================================================================\n",
      "embedding (Embedding)        (None, 25, 40)            200000    \n",
      "_________________________________________________________________\n",
      "dropout (Dropout)            (None, 25, 40)            0         \n",
      "_________________________________________________________________\n",
      "lstm (LSTM)                  (None, 100)               56400     \n",
      "_________________________________________________________________\n",
      "dropout_1 (Dropout)          (None, 100)               0         \n",
      "_________________________________________________________________\n",
      "dense (Dense)                (None, 64)                6464      \n",
      "_________________________________________________________________\n",
      "dropout_2 (Dropout)          (None, 64)                0         \n",
      "_________________________________________________________________\n",
      "dense_1 (Dense)              (None, 1)                 65        \n",
      "=================================================================\n",
      "Total params: 262,929\n",
      "Trainable params: 262,929\n",
      "Non-trainable params: 0\n",
      "_________________________________________________________________\n",
      "None\n"
     ]
    }
   ],
   "source": [
    "#We have used embedding layers with LSTM\n",
    "model = Sequential()\n",
    "model.add(Embedding(voc_size,40,input_length=25))\n",
    "model.add(Dropout(0.3))\n",
    "model.add(LSTM(100))\n",
    "model.add(Dropout(0.3))\n",
    "model.add(Dense(64,activation='relu'))\n",
    "model.add(Dropout(0.3))\n",
    "model.add(Dense(1,activation='sigmoid'))\n",
    "model.compile(loss='binary_crossentropy',optimizer='adam',metrics=['accuracy'])\n",
    "print(model.summary())"
   ]
  },
  {
   "cell_type": "code",
   "execution_count": 28,
   "metadata": {
    "execution": {
     "iopub.execute_input": "2021-03-10T06:21:35.596903Z",
     "iopub.status.busy": "2021-03-10T06:21:35.596213Z",
     "iopub.status.idle": "2021-03-10T06:21:35.608152Z",
     "shell.execute_reply": "2021-03-10T06:21:35.607151Z"
    },
    "papermill": {
     "duration": 0.05153,
     "end_time": "2021-03-10T06:21:35.608483",
     "exception": false,
     "start_time": "2021-03-10T06:21:35.556953",
     "status": "completed"
    },
    "tags": []
   },
   "outputs": [
    {
     "name": "stdout",
     "output_type": "stream",
     "text": [
      "Model: \"sequential\"\n",
      "_________________________________________________________________\n",
      "Layer (type)                 Output Shape              Param #   \n",
      "=================================================================\n",
      "embedding (Embedding)        (None, 25, 40)            200000    \n",
      "_________________________________________________________________\n",
      "dropout (Dropout)            (None, 25, 40)            0         \n",
      "_________________________________________________________________\n",
      "lstm (LSTM)                  (None, 100)               56400     \n",
      "_________________________________________________________________\n",
      "dropout_1 (Dropout)          (None, 100)               0         \n",
      "_________________________________________________________________\n",
      "dense (Dense)                (None, 64)                6464      \n",
      "_________________________________________________________________\n",
      "dropout_2 (Dropout)          (None, 64)                0         \n",
      "_________________________________________________________________\n",
      "dense_1 (Dense)              (None, 1)                 65        \n",
      "=================================================================\n",
      "Total params: 262,929\n",
      "Trainable params: 262,929\n",
      "Non-trainable params: 0\n",
      "_________________________________________________________________\n",
      "None\n"
     ]
    }
   ],
   "source": [
    "print(model.summary())"
   ]
  },
  {
   "cell_type": "code",
   "execution_count": 29,
   "metadata": {
    "execution": {
     "iopub.execute_input": "2021-03-10T06:21:35.687386Z",
     "iopub.status.busy": "2021-03-10T06:21:35.686362Z",
     "iopub.status.idle": "2021-03-10T06:21:35.690345Z",
     "shell.execute_reply": "2021-03-10T06:21:35.690931Z"
    },
    "papermill": {
     "duration": 0.045859,
     "end_time": "2021-03-10T06:21:35.691111",
     "exception": false,
     "start_time": "2021-03-10T06:21:35.645252",
     "status": "completed"
    },
    "tags": []
   },
   "outputs": [
    {
     "data": {
      "text/plain": [
       "(26000, (20800,))"
      ]
     },
     "execution_count": 29,
     "metadata": {},
     "output_type": "execute_result"
    }
   ],
   "source": [
    "len(embedded_docs),y.shape\n"
   ]
  },
  {
   "cell_type": "code",
   "execution_count": 30,
   "metadata": {
    "execution": {
     "iopub.execute_input": "2021-03-10T06:21:35.769210Z",
     "iopub.status.busy": "2021-03-10T06:21:35.768582Z",
     "iopub.status.idle": "2021-03-10T06:21:35.776812Z",
     "shell.execute_reply": "2021-03-10T06:21:35.776156Z"
    },
    "papermill": {
     "duration": 0.049395,
     "end_time": "2021-03-10T06:21:35.776972",
     "exception": false,
     "start_time": "2021-03-10T06:21:35.727577",
     "status": "completed"
    },
    "tags": []
   },
   "outputs": [
    {
     "data": {
      "text/plain": [
       "(5200, 20)"
      ]
     },
     "execution_count": 30,
     "metadata": {},
     "output_type": "execute_result"
    }
   ],
   "source": [
    "X_final=np.array(embedded_docs)\n",
    "X_train_final  = X_final[:20800]\n",
    "\n",
    "X_test_final   = X_final[20800:]\n",
    "y_final = np.array(y)\n",
    "X_test_final.shape"
   ]
  },
  {
   "cell_type": "code",
   "execution_count": 31,
   "metadata": {
    "execution": {
     "iopub.execute_input": "2021-03-10T06:21:35.856210Z",
     "iopub.status.busy": "2021-03-10T06:21:35.855536Z",
     "iopub.status.idle": "2021-03-10T06:21:35.858716Z",
     "shell.execute_reply": "2021-03-10T06:21:35.859182Z"
    },
    "papermill": {
     "duration": 0.045476,
     "end_time": "2021-03-10T06:21:35.859383",
     "exception": false,
     "start_time": "2021-03-10T06:21:35.813907",
     "status": "completed"
    },
    "tags": []
   },
   "outputs": [],
   "source": [
    "from sklearn.model_selection import train_test_split"
   ]
  },
  {
   "cell_type": "code",
   "execution_count": 32,
   "metadata": {
    "execution": {
     "iopub.execute_input": "2021-03-10T06:21:35.939834Z",
     "iopub.status.busy": "2021-03-10T06:21:35.939149Z",
     "iopub.status.idle": "2021-03-10T06:21:35.946497Z",
     "shell.execute_reply": "2021-03-10T06:21:35.947360Z"
    },
    "papermill": {
     "duration": 0.050991,
     "end_time": "2021-03-10T06:21:35.947591",
     "exception": false,
     "start_time": "2021-03-10T06:21:35.896600",
     "status": "completed"
    },
    "tags": []
   },
   "outputs": [],
   "source": [
    "X_train,X_test,y_train,y_test =train_test_split(X_train_final ,y_final ,test_size=0.33,random_state=42)\n"
   ]
  },
  {
   "cell_type": "code",
   "execution_count": 33,
   "metadata": {
    "execution": {
     "iopub.execute_input": "2021-03-10T06:21:36.029288Z",
     "iopub.status.busy": "2021-03-10T06:21:36.028624Z",
     "iopub.status.idle": "2021-03-10T06:23:41.317657Z",
     "shell.execute_reply": "2021-03-10T06:23:41.318151Z"
    },
    "papermill": {
     "duration": 125.333149,
     "end_time": "2021-03-10T06:23:41.318380",
     "exception": false,
     "start_time": "2021-03-10T06:21:35.985231",
     "status": "completed"
    },
    "tags": []
   },
   "outputs": [
    {
     "name": "stdout",
     "output_type": "stream",
     "text": [
      "Epoch 1/20\n",
      "218/218 [==============================] - 9s 31ms/step - loss: 0.3909 - accuracy: 0.7932 - val_loss: 0.0303 - val_accuracy: 0.9904\n",
      "Epoch 2/20\n",
      "218/218 [==============================] - 6s 27ms/step - loss: 0.0173 - accuracy: 0.9953 - val_loss: 0.0254 - val_accuracy: 0.9932\n",
      "Epoch 3/20\n",
      "218/218 [==============================] - 6s 29ms/step - loss: 0.0049 - accuracy: 0.9986 - val_loss: 0.0241 - val_accuracy: 0.9934\n",
      "Epoch 4/20\n",
      "218/218 [==============================] - 6s 27ms/step - loss: 0.0034 - accuracy: 0.9991 - val_loss: 0.0302 - val_accuracy: 0.9927\n",
      "Epoch 5/20\n",
      "218/218 [==============================] - 6s 29ms/step - loss: 0.0024 - accuracy: 0.9995 - val_loss: 0.0375 - val_accuracy: 0.9918\n",
      "Epoch 6/20\n",
      "218/218 [==============================] - 6s 27ms/step - loss: 0.0022 - accuracy: 0.9994 - val_loss: 0.0361 - val_accuracy: 0.9929\n",
      "Epoch 7/20\n",
      "218/218 [==============================] - 6s 28ms/step - loss: 4.6854e-04 - accuracy: 0.9999 - val_loss: 0.0426 - val_accuracy: 0.9921\n",
      "Epoch 8/20\n",
      "218/218 [==============================] - 6s 28ms/step - loss: 1.1023e-04 - accuracy: 1.0000 - val_loss: 0.0339 - val_accuracy: 0.9924\n",
      "Epoch 9/20\n",
      "218/218 [==============================] - 6s 28ms/step - loss: 0.0012 - accuracy: 0.9996 - val_loss: 0.0427 - val_accuracy: 0.9930\n",
      "Epoch 10/20\n",
      "218/218 [==============================] - 6s 28ms/step - loss: 0.0013 - accuracy: 0.9996 - val_loss: 0.0443 - val_accuracy: 0.9910\n",
      "Epoch 11/20\n",
      "218/218 [==============================] - 6s 28ms/step - loss: 0.0010 - accuracy: 0.9997 - val_loss: 0.0494 - val_accuracy: 0.9913\n",
      "Epoch 12/20\n",
      "218/218 [==============================] - 6s 29ms/step - loss: 4.6984e-04 - accuracy: 0.9997 - val_loss: 0.0528 - val_accuracy: 0.9918\n",
      "Epoch 13/20\n",
      "218/218 [==============================] - 6s 28ms/step - loss: 5.7766e-04 - accuracy: 0.9998 - val_loss: 0.0398 - val_accuracy: 0.9920\n",
      "Epoch 14/20\n",
      "218/218 [==============================] - 6s 28ms/step - loss: 0.0016 - accuracy: 0.9994 - val_loss: 0.0432 - val_accuracy: 0.9930\n",
      "Epoch 15/20\n",
      "218/218 [==============================] - 6s 28ms/step - loss: 1.0503e-04 - accuracy: 1.0000 - val_loss: 0.0478 - val_accuracy: 0.9926\n",
      "Epoch 16/20\n",
      "218/218 [==============================] - 6s 28ms/step - loss: 4.2046e-05 - accuracy: 1.0000 - val_loss: 0.0492 - val_accuracy: 0.9926\n",
      "Epoch 17/20\n",
      "218/218 [==============================] - 6s 28ms/step - loss: 5.0964e-05 - accuracy: 1.0000 - val_loss: 0.0536 - val_accuracy: 0.9917\n",
      "Epoch 18/20\n",
      "218/218 [==============================] - 6s 28ms/step - loss: 2.5468e-05 - accuracy: 1.0000 - val_loss: 0.0523 - val_accuracy: 0.9927\n",
      "Epoch 19/20\n",
      "218/218 [==============================] - 6s 29ms/step - loss: 1.0610e-05 - accuracy: 1.0000 - val_loss: 0.0534 - val_accuracy: 0.9929\n",
      "Epoch 20/20\n",
      "218/218 [==============================] - 6s 28ms/step - loss: 1.8354e-05 - accuracy: 1.0000 - val_loss: 0.0532 - val_accuracy: 0.9921\n"
     ]
    },
    {
     "data": {
      "text/plain": [
       "<tensorflow.python.keras.callbacks.History at 0x7f130031f190>"
      ]
     },
     "execution_count": 33,
     "metadata": {},
     "output_type": "execute_result"
    }
   ],
   "source": [
    "model.fit(X_train,y_train,validation_data=(X_test,y_test),epochs=20,batch_size=64)"
   ]
  },
  {
   "cell_type": "markdown",
   "metadata": {
    "papermill": {
     "duration": 0.529483,
     "end_time": "2021-03-10T06:23:42.386917",
     "exception": false,
     "start_time": "2021-03-10T06:23:41.857434",
     "status": "completed"
    },
    "tags": []
   },
   "source": [
    "## predictions..."
   ]
  },
  {
   "cell_type": "code",
   "execution_count": 34,
   "metadata": {
    "execution": {
     "iopub.execute_input": "2021-03-10T06:23:43.450145Z",
     "iopub.status.busy": "2021-03-10T06:23:43.449236Z",
     "iopub.status.idle": "2021-03-10T06:23:44.723382Z",
     "shell.execute_reply": "2021-03-10T06:23:44.723962Z"
    },
    "papermill": {
     "duration": 1.805183,
     "end_time": "2021-03-10T06:23:44.724156",
     "exception": false,
     "start_time": "2021-03-10T06:23:42.918973",
     "status": "completed"
    },
    "tags": []
   },
   "outputs": [
    {
     "name": "stderr",
     "output_type": "stream",
     "text": [
      "/opt/conda/lib/python3.7/site-packages/tensorflow/python/keras/engine/sequential.py:450: UserWarning: `model.predict_classes()` is deprecated and will be removed after 2021-01-01. Please use instead:* `np.argmax(model.predict(x), axis=-1)`,   if your model does multi-class classification   (e.g. if it uses a `softmax` last-layer activation).* `(model.predict(x) > 0.5).astype(\"int32\")`,   if your model does binary classification   (e.g. if it uses a `sigmoid` last-layer activation).\n",
      "  warnings.warn('`model.predict_classes()` is deprecated and '\n"
     ]
    }
   ],
   "source": [
    "y_pred = model.predict_classes(X_test_final)\n"
   ]
  },
  {
   "cell_type": "code",
   "execution_count": 35,
   "metadata": {
    "execution": {
     "iopub.execute_input": "2021-03-10T06:23:45.824533Z",
     "iopub.status.busy": "2021-03-10T06:23:45.823751Z",
     "iopub.status.idle": "2021-03-10T06:23:45.831003Z",
     "shell.execute_reply": "2021-03-10T06:23:45.830438Z"
    },
    "papermill": {
     "duration": 0.541998,
     "end_time": "2021-03-10T06:23:45.831142",
     "exception": false,
     "start_time": "2021-03-10T06:23:45.289144",
     "status": "completed"
    },
    "tags": []
   },
   "outputs": [
    {
     "data": {
      "text/plain": [
       "((5200, 1), (5200,))"
      ]
     },
     "execution_count": 35,
     "metadata": {},
     "output_type": "execute_result"
    }
   ],
   "source": [
    "\n",
    "y_pred.shape,test_df.id.shape"
   ]
  },
  {
   "cell_type": "code",
   "execution_count": 36,
   "metadata": {
    "execution": {
     "iopub.execute_input": "2021-03-10T06:23:46.901457Z",
     "iopub.status.busy": "2021-03-10T06:23:46.900633Z",
     "iopub.status.idle": "2021-03-10T06:23:46.904495Z",
     "shell.execute_reply": "2021-03-10T06:23:46.904959Z"
    },
    "papermill": {
     "duration": 0.541582,
     "end_time": "2021-03-10T06:23:46.905135",
     "exception": false,
     "start_time": "2021-03-10T06:23:46.363553",
     "status": "completed"
    },
    "tags": []
   },
   "outputs": [
    {
     "data": {
      "text/html": [
       "<div>\n",
       "<style scoped>\n",
       "    .dataframe tbody tr th:only-of-type {\n",
       "        vertical-align: middle;\n",
       "    }\n",
       "\n",
       "    .dataframe tbody tr th {\n",
       "        vertical-align: top;\n",
       "    }\n",
       "\n",
       "    .dataframe thead th {\n",
       "        text-align: right;\n",
       "    }\n",
       "</style>\n",
       "<table border=\"1\" class=\"dataframe\">\n",
       "  <thead>\n",
       "    <tr style=\"text-align: right;\">\n",
       "      <th></th>\n",
       "      <th>id</th>\n",
       "      <th>label</th>\n",
       "    </tr>\n",
       "  </thead>\n",
       "  <tbody>\n",
       "    <tr>\n",
       "      <th>0</th>\n",
       "      <td>20800</td>\n",
       "      <td>0</td>\n",
       "    </tr>\n",
       "    <tr>\n",
       "      <th>1</th>\n",
       "      <td>20801</td>\n",
       "      <td>1</td>\n",
       "    </tr>\n",
       "    <tr>\n",
       "      <th>2</th>\n",
       "      <td>20802</td>\n",
       "      <td>0</td>\n",
       "    </tr>\n",
       "    <tr>\n",
       "      <th>3</th>\n",
       "      <td>20803</td>\n",
       "      <td>1</td>\n",
       "    </tr>\n",
       "    <tr>\n",
       "      <th>4</th>\n",
       "      <td>20804</td>\n",
       "      <td>1</td>\n",
       "    </tr>\n",
       "  </tbody>\n",
       "</table>\n",
       "</div>"
      ],
      "text/plain": [
       "      id  label\n",
       "0  20800      0\n",
       "1  20801      1\n",
       "2  20802      0\n",
       "3  20803      1\n",
       "4  20804      1"
      ]
     },
     "execution_count": 36,
     "metadata": {},
     "output_type": "execute_result"
    }
   ],
   "source": [
    "submission.head()"
   ]
  },
  {
   "cell_type": "code",
   "execution_count": 37,
   "metadata": {
    "execution": {
     "iopub.execute_input": "2021-03-10T06:23:48.026403Z",
     "iopub.status.busy": "2021-03-10T06:23:48.025735Z",
     "iopub.status.idle": "2021-03-10T06:23:48.030182Z",
     "shell.execute_reply": "2021-03-10T06:23:48.029555Z"
    },
    "papermill": {
     "duration": 0.541442,
     "end_time": "2021-03-10T06:23:48.030341",
     "exception": false,
     "start_time": "2021-03-10T06:23:47.488899",
     "status": "completed"
    },
    "tags": []
   },
   "outputs": [
    {
     "data": {
      "text/plain": [
       "numpy.ndarray"
      ]
     },
     "execution_count": 37,
     "metadata": {},
     "output_type": "execute_result"
    }
   ],
   "source": [
    "y_pred=y_pred.reshape(5200)\n",
    "type(y_pred)\n"
   ]
  },
  {
   "cell_type": "code",
   "execution_count": 38,
   "metadata": {
    "execution": {
     "iopub.execute_input": "2021-03-10T06:23:49.115058Z",
     "iopub.status.busy": "2021-03-10T06:23:49.114426Z",
     "iopub.status.idle": "2021-03-10T06:23:49.118012Z",
     "shell.execute_reply": "2021-03-10T06:23:49.117371Z"
    },
    "papermill": {
     "duration": 0.544619,
     "end_time": "2021-03-10T06:23:49.118158",
     "exception": false,
     "start_time": "2021-03-10T06:23:48.573539",
     "status": "completed"
    },
    "tags": []
   },
   "outputs": [],
   "source": [
    "submission = pd.DataFrame({'id':test_df.id,'label':y_pred})"
   ]
  },
  {
   "cell_type": "code",
   "execution_count": 39,
   "metadata": {
    "execution": {
     "iopub.execute_input": "2021-03-10T06:23:50.189882Z",
     "iopub.status.busy": "2021-03-10T06:23:50.189004Z",
     "iopub.status.idle": "2021-03-10T06:23:50.194127Z",
     "shell.execute_reply": "2021-03-10T06:23:50.193441Z"
    },
    "papermill": {
     "duration": 0.55004,
     "end_time": "2021-03-10T06:23:50.194269",
     "exception": false,
     "start_time": "2021-03-10T06:23:49.644229",
     "status": "completed"
    },
    "tags": []
   },
   "outputs": [
    {
     "data": {
      "text/html": [
       "<div>\n",
       "<style scoped>\n",
       "    .dataframe tbody tr th:only-of-type {\n",
       "        vertical-align: middle;\n",
       "    }\n",
       "\n",
       "    .dataframe tbody tr th {\n",
       "        vertical-align: top;\n",
       "    }\n",
       "\n",
       "    .dataframe thead th {\n",
       "        text-align: right;\n",
       "    }\n",
       "</style>\n",
       "<table border=\"1\" class=\"dataframe\">\n",
       "  <thead>\n",
       "    <tr style=\"text-align: right;\">\n",
       "      <th></th>\n",
       "      <th>id</th>\n",
       "      <th>label</th>\n",
       "    </tr>\n",
       "  </thead>\n",
       "  <tbody>\n",
       "    <tr>\n",
       "      <th>0</th>\n",
       "      <td>20800</td>\n",
       "      <td>0</td>\n",
       "    </tr>\n",
       "    <tr>\n",
       "      <th>1</th>\n",
       "      <td>20801</td>\n",
       "      <td>1</td>\n",
       "    </tr>\n",
       "    <tr>\n",
       "      <th>2</th>\n",
       "      <td>20802</td>\n",
       "      <td>1</td>\n",
       "    </tr>\n",
       "    <tr>\n",
       "      <th>3</th>\n",
       "      <td>20803</td>\n",
       "      <td>0</td>\n",
       "    </tr>\n",
       "    <tr>\n",
       "      <th>4</th>\n",
       "      <td>20804</td>\n",
       "      <td>1</td>\n",
       "    </tr>\n",
       "  </tbody>\n",
       "</table>\n",
       "</div>"
      ],
      "text/plain": [
       "      id  label\n",
       "0  20800      0\n",
       "1  20801      1\n",
       "2  20802      1\n",
       "3  20803      0\n",
       "4  20804      1"
      ]
     },
     "execution_count": 39,
     "metadata": {},
     "output_type": "execute_result"
    }
   ],
   "source": [
    "submission.head()"
   ]
  },
  {
   "cell_type": "code",
   "execution_count": 40,
   "metadata": {
    "execution": {
     "iopub.execute_input": "2021-03-10T06:23:51.267202Z",
     "iopub.status.busy": "2021-03-10T06:23:51.266554Z",
     "iopub.status.idle": "2021-03-10T06:23:51.271489Z",
     "shell.execute_reply": "2021-03-10T06:23:51.270911Z"
    },
    "papermill": {
     "duration": 0.545054,
     "end_time": "2021-03-10T06:23:51.271637",
     "exception": false,
     "start_time": "2021-03-10T06:23:50.726583",
     "status": "completed"
    },
    "tags": []
   },
   "outputs": [
    {
     "data": {
      "text/plain": [
       "(5200, 2)"
      ]
     },
     "execution_count": 40,
     "metadata": {},
     "output_type": "execute_result"
    }
   ],
   "source": [
    "submission.shape"
   ]
  },
  {
   "cell_type": "code",
   "execution_count": 41,
   "metadata": {
    "execution": {
     "iopub.execute_input": "2021-03-10T06:23:52.341273Z",
     "iopub.status.busy": "2021-03-10T06:23:52.340633Z",
     "iopub.status.idle": "2021-03-10T06:23:52.357179Z",
     "shell.execute_reply": "2021-03-10T06:23:52.356589Z"
    },
    "papermill": {
     "duration": 0.556061,
     "end_time": "2021-03-10T06:23:52.357351",
     "exception": false,
     "start_time": "2021-03-10T06:23:51.801290",
     "status": "completed"
    },
    "tags": []
   },
   "outputs": [],
   "source": [
    "submission.to_csv('LSMT_model_work.csv',index=False)"
   ]
  },
  {
   "cell_type": "code",
   "execution_count": null,
   "metadata": {
    "papermill": {
     "duration": 0.533248,
     "end_time": "2021-03-10T06:23:53.424249",
     "exception": false,
     "start_time": "2021-03-10T06:23:52.891001",
     "status": "completed"
    },
    "tags": []
   },
   "outputs": [],
   "source": []
  }
 ],
 "metadata": {
  "kernelspec": {
   "display_name": "Python 3",
   "language": "python",
   "name": "python3"
  },
  "language_info": {
   "codemirror_mode": {
    "name": "ipython",
    "version": 3
   },
   "file_extension": ".py",
   "mimetype": "text/x-python",
   "name": "python",
   "nbconvert_exporter": "python",
   "pygments_lexer": "ipython3",
   "version": "3.7.9"
  },
  "papermill": {
   "default_parameters": {},
   "duration": 227.676326,
   "end_time": "2021-03-10T06:23:55.275497",
   "environment_variables": {},
   "exception": null,
   "input_path": "__notebook__.ipynb",
   "output_path": "__notebook__.ipynb",
   "parameters": {},
   "start_time": "2021-03-10T06:20:07.599171",
   "version": "2.2.2"
  }
 },
 "nbformat": 4,
 "nbformat_minor": 4
}
